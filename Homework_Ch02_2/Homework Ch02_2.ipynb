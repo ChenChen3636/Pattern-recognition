{
 "cells": [
  {
   "cell_type": "code",
   "execution_count": 7,
   "metadata": {},
   "outputs": [
    {
     "data": {
      "text/plain": [
       "(array([[0],\n",
       "        [1],\n",
       "        [2],\n",
       "        [3],\n",
       "        [4]]),\n",
       " array([[0, 1, 2, 3, 4, 5, 6, 7, 8, 9]]))"
      ]
     },
     "execution_count": 7,
     "metadata": {},
     "output_type": "execute_result"
    }
   ],
   "source": [
    "import statsmodels.api as sm\n",
    "import numpy as np\n",
    "import pandas as pd\n",
    "\n",
    "# meshgrid \n",
    "\n",
    "iv, jv= np.ogrid[0:5, 0:10] \n",
    "\n",
    "iv, jv "
   ]
  },
  {
   "cell_type": "code",
   "execution_count": 8,
   "metadata": {},
   "outputs": [
    {
     "data": {
      "text/plain": [
       "(array([[0, 0, 0, 0, 0, 0, 0, 0, 0, 0],\n",
       "        [1, 1, 1, 1, 1, 1, 1, 1, 1, 1],\n",
       "        [2, 2, 2, 2, 2, 2, 2, 2, 2, 2],\n",
       "        [3, 3, 3, 3, 3, 3, 3, 3, 3, 3],\n",
       "        [4, 4, 4, 4, 4, 4, 4, 4, 4, 4]]),\n",
       " array([[0, 1, 2, 3, 4, 5, 6, 7, 8, 9],\n",
       "        [0, 1, 2, 3, 4, 5, 6, 7, 8, 9],\n",
       "        [0, 1, 2, 3, 4, 5, 6, 7, 8, 9],\n",
       "        [0, 1, 2, 3, 4, 5, 6, 7, 8, 9],\n",
       "        [0, 1, 2, 3, 4, 5, 6, 7, 8, 9]]))"
      ]
     },
     "execution_count": 8,
     "metadata": {},
     "output_type": "execute_result"
    }
   ],
   "source": [
    "im= iv @ np.ones_like(jv) \n",
    "\n",
    "jm= np.ones_like(iv) @ jv \n",
    "\n",
    "im, jm "
   ]
  },
  {
   "cell_type": "code",
   "execution_count": 9,
   "metadata": {},
   "outputs": [
    {
     "data": {
      "text/plain": [
       "<matplotlib.collections.PathCollection at 0x1d8933caec8>"
      ]
     },
     "execution_count": 9,
     "metadata": {},
     "output_type": "execute_result"
    },
    {
     "data": {
      "image/png": "[encoded data removed]",
      "text/plain": [
       "<Figure size 432x288 with 1 Axes>"
      ]
     },
     "metadata": {
      "needs_background": "light"
     },
     "output_type": "display_data"
    }
   ],
   "source": [
    "import matplotlib.pyplot as plt \n",
    "\n",
    " \n",
    "\n",
    "plt.figure() \n",
    "\n",
    "plt.title('ryMeshgrid') \n",
    "\n",
    "plt.xlabel('x, col: j') \n",
    "\n",
    "plt.ylabel('y, row: i') \n",
    "\n",
    "plt.grid(True) \n",
    "\n",
    " \n",
    "\n",
    "plt.xticks(jv.flatten()) \n",
    "\n",
    "plt.yticks(iv.flatten()) \n",
    "\n",
    " \n",
    "\n",
    "ym, xm= im, jm \n",
    "\n",
    " \n",
    "\n",
    "plt.scatter(xm, \n",
    "\n",
    "            ym, \n",
    "\n",
    "            color=\"gray\",  \n",
    "\n",
    "            marker=\"o\") \n",
    "\n",
    " \n",
    "\n",
    "plt.scatter(jv,  \n",
    "\n",
    "            jv*0,  \n",
    "\n",
    "            color=\"red\",  \n",
    "\n",
    "            marker=\"x\") \n",
    "\n",
    " \n",
    "\n",
    "plt.scatter(iv*0,  \n",
    "\n",
    "            iv,  \n",
    "\n",
    "            color=\"blue\",  \n",
    "\n",
    "            marker=\"^\") "
   ]
  },
  {
   "cell_type": "code",
   "execution_count": 14,
   "metadata": {},
   "outputs": [],
   "source": [
    "im, jm= np.mgrid[0:5, 0:10] \n",
    "\n",
    "ym, xm= im, jm "
   ]
  },
  {
   "cell_type": "code",
   "execution_count": null,
   "metadata": {},
   "outputs": [],
   "source": []
  }
 ],
 "metadata": {
  "kernelspec": {
   "display_name": "Python 3",
   "language": "python",
   "name": "python3"
  },
  "language_info": {
   "codemirror_mode": {
    "name": "ipython",
    "version": 3
   },
   "file_extension": ".py",
   "mimetype": "text/x-python",
   "name": "python",
   "nbconvert_exporter": "python",
   "pygments_lexer": "ipython3",
   "version": "3.7.6"
  }
 },
 "nbformat": 4,
 "nbformat_minor": 4
}
