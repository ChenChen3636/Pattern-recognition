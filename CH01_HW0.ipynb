{
 "cells": [
  {
   "cell_type": "markdown",
   "metadata": {},
   "source": [
    "### EX.1"
   ]
  },
  {
   "cell_type": "code",
   "execution_count": 25,
   "metadata": {},
   "outputs": [
    {
     "name": "stdout",
     "output_type": "stream",
     "text": [
      " \n",
      "\n",
      "n= 3,  \n",
      "\n",
      "a= [[-3 -4  2]\n",
      " [ 1  0 -1]\n",
      " [ 0 -5  2]] \n",
      "\n",
      "b= [[-6]\n",
      " [-3]\n",
      " [ 5]] \n",
      "\n",
      "x= [[4.30769231]\n",
      " [1.92307692]\n",
      " [7.30769231]] \n",
      "\n",
      "\n"
     ]
    },
    {
     "data": {
      "text/plain": [
       "True"
      ]
     },
     "execution_count": 25,
     "metadata": {},
     "output_type": "execute_result"
    }
   ],
   "source": [
    "import numpy as np\n",
    "\n",
    "a= np.random.randint(-6,6,size=(3,3)) \n",
    "\n",
    "b= np.random.randint(-6,6,size=(3,1)) \n",
    "\n",
    "\n",
    "x= np.linalg.solve(a, b) \n",
    "\n",
    " \n",
    "print( \n",
    "\n",
    "f''' \n",
    "\n",
    "n= {3},  \n",
    "\n",
    "a= {a} \n",
    "\n",
    "b= {b} \n",
    "\n",
    "x= {x} \n",
    "\n",
    "''')\n",
    "\n",
    "np.allclose(np.dot(a, x), b)"
   ]
  },
  {
   "cell_type": "markdown",
   "metadata": {},
   "source": [
    "### EX.2"
   ]
  },
  {
   "cell_type": "code",
   "execution_count": 26,
   "metadata": {},
   "outputs": [
    {
     "name": "stdout",
     "output_type": "stream",
     "text": [
      " \n",
      "\n",
      "n= 5,  \n",
      "\n",
      "a= [[-1 -1  6  2  2]\n",
      " [ 5  8  3  3 -5]\n",
      " [ 6  8  1 -7 -3]\n",
      " [ 1  0  2  3 -2]\n",
      " [ 7  1 -4 -2  1]] \n",
      "\n",
      "b= [[5]\n",
      " [6]\n",
      " [2]\n",
      " [9]\n",
      " [6]] \n",
      "\n",
      "x= [[ 2.31360332]\n",
      " [-2.44607625]\n",
      " [ 1.47752559]\n",
      " [-0.05325619]\n",
      " [-1.94555704]] \n",
      "\n",
      "\n"
     ]
    },
    {
     "data": {
      "text/plain": [
       "True"
      ]
     },
     "execution_count": 26,
     "metadata": {},
     "output_type": "execute_result"
    }
   ],
   "source": [
    "a= np.random.randint(-10,10,size=(5,5)) \n",
    "\n",
    "b= np.random.randint(1,10,size=(5,1)) \n",
    "\n",
    "\n",
    "x= np.linalg.solve(a, b) \n",
    "\n",
    " \n",
    "print( \n",
    "\n",
    "f''' \n",
    "\n",
    "n= {5},  \n",
    "\n",
    "a= {a} \n",
    "\n",
    "b= {b} \n",
    "\n",
    "x= {x} \n",
    "\n",
    "''')\n",
    "\n",
    "np.allclose(np.dot(a, x), b)"
   ]
  },
  {
   "cell_type": "markdown",
   "metadata": {},
   "source": [
    "### EX.3"
   ]
  },
  {
   "cell_type": "code",
   "execution_count": 27,
   "metadata": {},
   "outputs": [
    {
     "name": "stdout",
     "output_type": "stream",
     "text": [
      " \n",
      "\n",
      "n= 10,  \n",
      "\n",
      "a= [[ -7   9   6  -3   8  -5   0  -5   7  -8]\n",
      " [  2 -10   1  -4   4  -1  -6  -6  -5  -3]\n",
      " [ -6   9   5   6   8  -8   2   7  -7  -7]\n",
      " [ -2   1  -9  -2  -4   1   1   1   6  -7]\n",
      " [  3  -6  -2   0  -8  -6  -8   2   3   8]\n",
      " [ -2  -8  -5  -3  -1  -1  -4   1   3   3]\n",
      " [ -5   5  -5   3   1  -2   2  -7  -1   4]\n",
      " [  6   3   6   4   4   1   9  -9   1 -10]\n",
      " [  4  -3  -7   2   8   2  -9  -9   7  -3]\n",
      " [ -4  -2  -7  -8  -3  -5  -8   3   6   1]] \n",
      "\n",
      "b= [[86]\n",
      " [ 5]\n",
      " [94]\n",
      " [69]\n",
      " [ 3]\n",
      " [95]\n",
      " [12]\n",
      " [17]\n",
      " [90]\n",
      " [46]] \n",
      "\n",
      "x= [[ -7.68634009]\n",
      " [-10.88677953]\n",
      " [ -3.24877332]\n",
      " [  8.70241036]\n",
      " [  7.48682378]\n",
      " [ -7.54669602]\n",
      " [  4.94672797]\n",
      " [  3.35916821]\n",
      " [  9.66549748]\n",
      " [ -3.41072432]] \n",
      "\n",
      "\n"
     ]
    },
    {
     "data": {
      "text/plain": [
       "True"
      ]
     },
     "execution_count": 27,
     "metadata": {},
     "output_type": "execute_result"
    }
   ],
   "source": [
    "a= np.random.randint(-10,10,size=(10,10)) \n",
    "\n",
    "b= np.random.randint(1,100,size=(10,1)) \n",
    "\n",
    "\n",
    "x= np.linalg.solve(a, b) \n",
    "\n",
    " \n",
    "print( \n",
    "\n",
    "f''' \n",
    "\n",
    "n= {10},  \n",
    "\n",
    "a= {a} \n",
    "\n",
    "b= {b} \n",
    "\n",
    "x= {x} \n",
    "\n",
    "''')\n",
    "\n",
    "np.allclose(np.dot(a, x), b)"
   ]
  },
  {
   "cell_type": "code",
   "execution_count": null,
   "metadata": {},
   "outputs": [],
   "source": []
  }
 ],
 "metadata": {
  "kernelspec": {
   "display_name": "Python 3",
   "language": "python",
   "name": "python3"
  },
  "language_info": {
   "codemirror_mode": {
    "name": "ipython",
    "version": 3
   },
   "file_extension": ".py",
   "mimetype": "text/x-python",
   "name": "python",
   "nbconvert_exporter": "python",
   "pygments_lexer": "ipython3",
   "version": "3.7.6"
  }
 },
 "nbformat": 4,
 "nbformat_minor": 4
}
