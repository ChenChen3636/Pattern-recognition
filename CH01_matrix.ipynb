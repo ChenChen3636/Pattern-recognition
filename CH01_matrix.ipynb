{
 "cells": [
  {
   "cell_type": "code",
   "execution_count": 1,
   "metadata": {},
   "outputs": [
    {
     "name": "stdout",
     "output_type": "stream",
     "text": [
      "A= \n",
      "[[-3 -3]\n",
      " [ 2  0]]\n",
      "\n",
      "i,j= 00, Bij= \n",
      "[[0]]\n",
      ".... Dij= 0\n",
      "\n",
      "i,j= 01, Bij= \n",
      "[[2]]\n",
      ".... Dij= 2\n",
      "\n",
      "det= 6\n"
     ]
    }
   ],
   "source": [
    "import numpy as np\n",
    "\n",
    "n= np.random.randint(2,5) \n",
    "\n",
    "A= np.random.randint(-5,5,size=(n,n)) \n",
    "\n",
    "print(f'A= \\n{A}') \n",
    "\n",
    " \n",
    "\n",
    "def ryDet(A): \n",
    "\n",
    "     \n",
    "\n",
    "    n= A.shape[0] \n",
    "\n",
    "    if n>1: \n",
    "\n",
    "        i= 0 \n",
    "\n",
    "        Bi=  np.delete(A, i, axis=0) \n",
    "\n",
    "        #print(f'\\ni= {i}, Bi= \\n{Bi}') \n",
    "\n",
    "         \n",
    "\n",
    "        det= 0 \n",
    "\n",
    "        for j in range(n): \n",
    "\n",
    "             \n",
    "\n",
    "            Bij= np.delete(Bi,j, axis=1) \n",
    "\n",
    "            print(f'\\ni,j= {i}{j}, Bij= \\n{Bij}') \n",
    "\n",
    "             \n",
    "\n",
    "            Dij= ryDet(Bij) #np.linalg.det(Bij) \n",
    "\n",
    "            print(f'.... Dij= {Dij}') \n",
    "\n",
    "             \n",
    "\n",
    "            Cij= A[i,j]*Dij*(-1)**(i+j) \n",
    "\n",
    "            det += Cij \n",
    "\n",
    "        #print(f'det= {det}') \n",
    "\n",
    "        return det \n",
    "\n",
    "     \n",
    "\n",
    "    elif A.shape[0]==1: \n",
    "\n",
    "        det= A[0,0] \n",
    "\n",
    "        return det \n",
    "\n",
    "    else: \n",
    "\n",
    "        return None \n",
    "\n",
    " \n",
    "\n",
    "det= ryDet(A) \n",
    "\n",
    "print(f'\\ndet= {det}')"
   ]
  },
  {
   "cell_type": "code",
   "execution_count": null,
   "metadata": {},
   "outputs": [],
   "source": []
  }
 ],
 "metadata": {
  "kernelspec": {
   "display_name": "Python 3",
   "language": "python",
   "name": "python3"
  },
  "language_info": {
   "codemirror_mode": {
    "name": "ipython",
    "version": 3
   },
   "file_extension": ".py",
   "mimetype": "text/x-python",
   "name": "python",
   "nbconvert_exporter": "python",
   "pygments_lexer": "ipython3",
   "version": "3.7.6"
  }
 },
 "nbformat": 4,
 "nbformat_minor": 4
}
